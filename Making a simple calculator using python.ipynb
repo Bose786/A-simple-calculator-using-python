{
 "cells": [
  {
   "cell_type": "code",
   "execution_count": 2,
   "metadata": {},
   "outputs": [
    {
     "name": "stdout",
     "output_type": "stream",
     "text": [
      "give practice test\n"
     ]
    }
   ],
   "source": [
    "marks=65\n",
    "if marks>70:\n",
    "    print(\"get icecream\")\n",
    "else:\n",
    "    print(\"give practice test\")"
   ]
  },
  {
   "cell_type": "code",
   "execution_count": 3,
   "metadata": {},
   "outputs": [
    {
     "name": "stdout",
     "output_type": "stream",
     "text": [
      "a is less than 5 2\n",
      "a is less than 5 3\n",
      "a is less than 5 4\n",
      "a is less than 5 5\n"
     ]
    }
   ],
   "source": [
    "a=2\n",
    "while(a<=5):\n",
    "    print(\"a is less than 5\",a)\n",
    "    a+=1"
   ]
  },
  {
   "cell_type": "code",
   "execution_count": 4,
   "metadata": {},
   "outputs": [
    {
     "name": "stdout",
     "output_type": "stream",
     "text": [
      "1\n",
      "2\n",
      "3\n",
      "4\n",
      "5\n",
      "6\n",
      "7\n",
      "8\n",
      "9\n"
     ]
    }
   ],
   "source": [
    "for i in range(1,10):\n",
    "    print(i)\n",
    "    \n"
   ]
  },
  {
   "cell_type": "code",
   "execution_count": 6,
   "metadata": {},
   "outputs": [],
   "source": [
    "def eating():\n",
    "    print('I love to eat chicken')\n"
   ]
  },
  {
   "cell_type": "code",
   "execution_count": 7,
   "metadata": {},
   "outputs": [],
   "source": [
    "def sleeping():\n",
    "    print(\"Dont disturb\")"
   ]
  },
  {
   "cell_type": "code",
   "execution_count": 8,
   "metadata": {},
   "outputs": [
    {
     "name": "stdout",
     "output_type": "stream",
     "text": [
      "I love to eat chicken\n"
     ]
    }
   ],
   "source": [
    "eating()"
   ]
  },
  {
   "cell_type": "code",
   "execution_count": 9,
   "metadata": {},
   "outputs": [],
   "source": [
    "def add(p,d):\n",
    "    c=p+d\n",
    "    return c"
   ]
  },
  {
   "cell_type": "code",
   "execution_count": 10,
   "metadata": {},
   "outputs": [],
   "source": [
    "data=add(3,4)"
   ]
  },
  {
   "cell_type": "code",
   "execution_count": 11,
   "metadata": {},
   "outputs": [
    {
     "name": "stdout",
     "output_type": "stream",
     "text": [
      "7\n"
     ]
    }
   ],
   "source": [
    "print(data)"
   ]
  },
  {
   "cell_type": "code",
   "execution_count": 12,
   "metadata": {},
   "outputs": [
    {
     "name": "stdout",
     "output_type": "stream",
     "text": [
      "enter your favourite brandapple\n"
     ]
    }
   ],
   "source": [
    "phone =input(\"enter your favourite brand\")"
   ]
  },
  {
   "cell_type": "code",
   "execution_count": 13,
   "metadata": {},
   "outputs": [
    {
     "name": "stdout",
     "output_type": "stream",
     "text": [
      "apple\n"
     ]
    }
   ],
   "source": [
    "print(phone)"
   ]
  },
  {
   "cell_type": "code",
   "execution_count": 14,
   "metadata": {},
   "outputs": [
    {
     "name": "stdout",
     "output_type": "stream",
     "text": [
      "Select operation\n",
      "1.Add\n",
      "2.Subtract\n",
      "3.Multiply\n",
      "4.Divide\n",
      "Enter choice(1/2/3/4):4\n",
      "Enter 1st number :6\n",
      "Enter 2nd number :3\n",
      "6.0 / 3.0 = 2.0\n"
     ]
    }
   ],
   "source": [
    "#Program to make a simple calculator\n",
    "def add(x,y):\n",
    "    return x+y\n",
    "def substract(x,y):\n",
    "    return x-y;\n",
    "def multiply(x,y):\n",
    "    return x*y\n",
    "def divide(x,y):\n",
    "    return x/y\n",
    "print(\"Select operation\")\n",
    "print(\"1.Add\")\n",
    "print(\"2.Subtract\")\n",
    "print(\"3.Multiply\")\n",
    "print(\"4.Divide\")\n",
    "\n",
    "\n",
    "while True:\n",
    "    choice =input(\"Enter choice(1/2/3/4):\")\n",
    "    \n",
    "    if choice in ('1','2','3','4'):\n",
    "        num1 = float(input(\"Enter 1st number :\"))\n",
    "        num2 = float(input(\"Enter 2nd number :\"))\n",
    "        \n",
    "        if choice==\"1\":\n",
    "            print(num1,\"+\",num2,\"=\",add(num1,num2))\n",
    "        elif choice ==\"2\":\n",
    "            print(num1,\"-\",num2,\"=\",subtract(num1,num2))\n",
    "        elif choice==\"3\":\n",
    "            print(num1,\"*\",num2,\"=\",multiply(num1,num2))\n",
    "        elif choice==\"4\":\n",
    "             print(num1,\"/\",num2,\"=\",divide(num1,num2))\n",
    "        break\n",
    "        \n",
    "    else:\n",
    "        print(\"Invalid input\")\n",
    "        \n",
    "        \n"
   ]
  },
  {
   "cell_type": "code",
   "execution_count": null,
   "metadata": {},
   "outputs": [],
   "source": []
  }
 ],
 "metadata": {
  "kernelspec": {
   "display_name": "Python 3",
   "language": "python",
   "name": "python3"
  },
  "language_info": {
   "codemirror_mode": {
    "name": "ipython",
    "version": 3
   },
   "file_extension": ".py",
   "mimetype": "text/x-python",
   "name": "python",
   "nbconvert_exporter": "python",
   "pygments_lexer": "ipython3",
   "version": "3.7.6"
  }
 },
 "nbformat": 4,
 "nbformat_minor": 4
}
