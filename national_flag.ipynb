{
  "nbformat": 4,
  "nbformat_minor": 0,
  "metadata": {
    "colab": {
      "name": "national flag.ipynb",
      "provenance": [],
      "authorship_tag": "ABX9TyOqR8e+kE6fI/bFttsohXzZ",
      "include_colab_link": true
    },
    "kernelspec": {
      "name": "python3",
      "display_name": "Python 3"
    },
    "language_info": {
      "name": "python"
    }
  },
  "cells": [
    {
      "cell_type": "markdown",
      "metadata": {
        "id": "view-in-github",
        "colab_type": "text"
      },
      "source": [
        "<a href=\"https://colab.research.google.com/github/Bose786/A-simple-calculator-using-python/blob/main/national_flag.ipynb\" target=\"_parent\"><img src=\"https://colab.research.google.com/assets/colab-badge.svg\" alt=\"Open In Colab\"/></a>"
      ]
    },
    {
      "cell_type": "code",
      "metadata": {
        "id": "cQftPfDgJ_42"
      },
      "source": [
        "import matplotlib.pyplot as plt\n",
        "import numpy as np"
      ],
      "execution_count": 1,
      "outputs": []
    },
    {
      "cell_type": "code",
      "metadata": {
        "id": "hDCFy2z3KA1Y"
      },
      "source": [
        "a = plt.Rectangle((0,1), height = 2, width =12, facecolor = 'green', edgecolor = 'grey')\n",
        "b = plt.Rectangle((0,3), height = 2, width =12, facecolor = 'white', edgecolor = 'grey')\n",
        "c = plt.Rectangle((0,5), height = 2, width =12, facecolor = '#FF9933', edgecolor = 'grey')\n",
        "d = plt.Circle((6,4), 0.8, fill=False, linewidth =7, color ='#000088ff' )"
      ],
      "execution_count": 2,
      "outputs": []
    },
    {
      "cell_type": "code",
      "metadata": {
        "colab": {
          "base_uri": "https://localhost:8080/",
          "height": 304
        },
        "id": "gHOoLJ-mKEdl",
        "outputId": "d2cf07f3-307d-486b-bc07-c021072fb68e"
      },
      "source": [
        "plt.subplots()"
      ],
      "execution_count": 3,
      "outputs": [
        {
          "output_type": "execute_result",
          "data": {
            "text/plain": [
              "(<Figure size 432x288 with 1 Axes>,\n",
              " <matplotlib.axes._subplots.AxesSubplot at 0x7f4276d59a90>)"
            ]
          },
          "metadata": {},
          "execution_count": 3
        },
        {
          "output_type": "display_data",
          "data": {
            "image/png": "[encoded data removed]",
            "text/plain": [
              "<Figure size 432x288 with 1 Axes>"
            ]
          },
          "metadata": {
            "needs_background": "light"
          }
        }
      ]
    },
    {
      "cell_type": "code",
      "metadata": {
        "colab": {
          "base_uri": "https://localhost:8080/",
          "height": 198
        },
        "id": "J1GgCpTHKJHX",
        "outputId": "14bb21b5-aeb2-46d4-9d28-80bd88467ea1"
      },
      "source": [
        "n, m = plt.subplots()\n",
        "m.add_patch(a)\n",
        "m.add_patch(b)\n",
        "m.add_patch(c)\n",
        "m.add_patch(d)\n",
        "plt.plot(6,4, marker = 'o', markerfacecolor = '#000088ff', markersize = 9.5)\n",
        "\n",
        "radius = 0.8\n",
        "for i in range(0,24):\n",
        "   p = 6 + radius/2 * np.cos(np.pi*i/12 + np.pi/48)\n",
        "   q = 6 + radius/2 * np.cos(np.pi*i/12 - np.pi/48)\n",
        "   r = 4 + radius/2 * np.sin(np.pi*i/12 + np.pi/48)\n",
        "   s = 4 + radius/2 * np.sin(np.pi*i/12 - np.pi/48)\n",
        "   t = 6 + radius * np.cos(np.pi*i/12)\n",
        "   u = 4 + radius * np.sin(np.pi*i/12)\n",
        "   m.add_patch(plt.Polygon([[6,4], [p,r], [t,u],[q,s]], fill=True, closed=True, color='#000088ff'))\n",
        "plt.axis('scaled')\n",
        "plt.axis('off')\n",
        "plt.show()"
      ],
      "execution_count": 4,
      "outputs": [
        {
          "output_type": "display_data",
          "data": {
            "image/png": "[encoded data removed]",
            "text/plain": [
              "<Figure size 432x288 with 1 Axes>"
            ]
          },
          "metadata": {
            "needs_background": "light"
          }
        }
      ]
    },
    {
      "cell_type": "code",
      "metadata": {
        "id": "ye6cWJMjKZOu"
      },
      "source": [
        ""
      ],
      "execution_count": null,
      "outputs": []
    }
  ]
}